{
  "cells": [
    {
      "cell_type": "markdown",
      "id": "8a8e4dc8",
      "metadata": {
        "id": "8a8e4dc8"
      },
      "source": [
        "# 1. 비즈니스 목표\n",
        "목표 :\n",
        "상품 이미지에 태그(베스트, 신상품, 세일 등)를 부착하는 것이 고객의 관심을 끌 수 있는지 A/B 테스트를 통해 확인한다."
      ]
    },
    {
      "cell_type": "markdown",
      "id": "c6a0caa9",
      "metadata": {
        "id": "c6a0caa9"
      },
      "source": [
        "# 2. 문제 정의\n",
        "고객 그룹을 50:50으로 나누어서 한 그룹(test 그룹)에는 각 상품에 세일 기간, Top10, New 등의 태그를 부착한다.\n",
        "\n",
        "다른 그룹(control)에는 태그 부착 없이 상품 자체만 보여주고, 일정 기간동안 데이터를 축적시킨다.\n",
        "\n",
        "일정 기간이 지난 후, test 그룹과 control 그룹 간, 클릭률이 유의미한 차이가 있는지 통계적으로 검증한다.\n",
        "\n",
        "* 요약\n",
        "    * 프로덕트: 이커머스 상품 리스트 페이지\n",
        "    * 테스트할 새로운 기능: 상품 이미지에 태그 (베스트, 신상품, 세일 등)\n",
        "\n",
        "    * control 그룹: 기존안 (상품 이미지 태그 미포함)\n",
        "    * test 그룹: 개선안 (상품 이미지 태그 포함)"
      ]
    },
    {
      "cell_type": "markdown",
      "id": "39a49edc",
      "metadata": {
        "id": "39a49edc"
      },
      "source": [
        "* 목표 지표: CTR (상품클릭수 / 상품조회수)\n",
        "* 가드레일 지표: 상품조회수\n",
        "\n",
        "-> 만약 test 그룹의 CTR이 상승했는데, 상품조회수가 하락해서 상승한 것이면 의도한 바가 아니므로, 상품조회수를 가드레일 지표로 두고 CTR과 함께 분석한다."
      ]
    },
    {
      "cell_type": "markdown",
      "id": "2c5c35df",
      "metadata": {
        "id": "2c5c35df"
      },
      "source": [
        "분석해볼 내용\n",
        "1) control군과 test군의 목표 지표에 유의미한 차이가 있었는가?\n",
        "2) control군과 test군의 가드레일 지표가 차이가 있는가? 떨어지지 않았는가?\n",
        "3) 지표들에 연령대별 차이가 있는지 추가 분석\n"
      ]
    },
    {
      "cell_type": "markdown",
      "id": "787f943f",
      "metadata": {
        "id": "787f943f"
      },
      "source": [
        "# 3. 사용할 데이터\n",
        "test 그룹, control 그룹을 나누어 일정 기간동안 실험을 했다고 가정하고, 임의로 생성한 모의 데이터를 사용한다."
      ]
    },
    {
      "cell_type": "code",
      "execution_count": null,
      "id": "2ac6ead7",
      "metadata": {
        "id": "2ac6ead7"
      },
      "outputs": [],
      "source": [
        "# 가상 데이터 생성\n",
        "import pandas as pd\n",
        "import numpy as np\n",
        "from scipy.stats import expon\n",
        "\n",
        "np.random.seed(42)\n",
        "\n",
        "# 50000명 데이터 가정\n",
        "num_users = 50000\n",
        "user_ids = range(1, num_users + 1)\n",
        "\n",
        "# 50000명 중 50%를 test 그룹, 50%를 control 그룹으로 나누기\n",
        "test_groups = np.random.choice(['control', 'test'], size=num_users, p=[0.5, 0.5])\n",
        "\n",
        "# 나이대 그룹 생성 (10대, 20대, 30대, 40대)\n",
        "age_groups = np.random.choice(['10s', '20s', '30s', '40s'], size=num_users, p=[0.15, 0.35, 0.35, 0.15])\n",
        "\n",
        "user_info_df = pd.DataFrame({\n",
        "    'user_id': user_ids,\n",
        "    'test_group': test_groups,\n",
        "    'age_group': age_groups\n",
        "})\n",
        "\n",
        "# 조회수, 클릭수 생성\n",
        "views = expon.rvs(scale=1000, size=num_users).astype(int)\n",
        "views = np.clip(views, 0, 10000)\n",
        "base_ctr = expon.rvs(scale=0.05, size=num_users)\n",
        "base_ctr = np.clip(base_ctr, 0, 1)\n",
        "\n",
        "# CTR 조정\n",
        "# test 그룹에 25%의 CTR 상승 적용\n",
        "ctr_adjustment = np.ones(num_users)\n",
        "ctr_adjustment[test_groups == 'test'] *= 1.25\n",
        "\n",
        "# 나이대별로 CTR 조정 (20대, 30대 사용자에게 추가 상승 적용)\n",
        "ctr_adjustment[(test_groups == 'test') & (age_groups == '20s')] *= 1.1\n",
        "ctr_adjustment[(test_groups == 'test') & (age_groups == '30s')] *= 1.1\n",
        "\n",
        "adjusted_ctr = base_ctr * ctr_adjustment\n",
        "adjusted_ctr = np.clip(adjusted_ctr, 0, 1)\n",
        "\n",
        "# 클릭수 계산\n",
        "# 클릭수는 조회수에 CTR을 곱한 값으로 계산하고, 최대 5000으로 제한\n",
        "clicks = (views * adjusted_ctr).astype(int)\n",
        "clicks = np.clip(clicks, 0, 5000)\n",
        "\n",
        "# AB 테스트 데이터프레임 생성\n",
        "ab_test_df = pd.DataFrame({\n",
        "    'user_id': user_ids,\n",
        "    'views': views,\n",
        "    'clicks': clicks\n",
        "})\n",
        "\n",
        "# 데이터 저장\n",
        "user_info_df.to_csv('user_info_data.csv', index=False)\n",
        "ab_test_df.to_csv('ab_test_data.csv', index=False)"
      ]
    },
    {
      "cell_type": "markdown",
      "id": "c1c33fd1",
      "metadata": {
        "id": "c1c33fd1"
      },
      "source": [
        "## 데이터 확인 및 전처리"
      ]
    },
    {
      "cell_type": "code",
      "execution_count": null,
      "id": "0afd042a",
      "metadata": {
        "id": "0afd042a",
        "outputId": "eeb5eed8-7bc8-4182-a109-e2149c45b142"
      },
      "outputs": [
        {
          "data": {
            "text/html": [
              "<div>\n",
              "<style scoped>\n",
              "    .dataframe tbody tr th:only-of-type {\n",
              "        vertical-align: middle;\n",
              "    }\n",
              "\n",
              "    .dataframe tbody tr th {\n",
              "        vertical-align: top;\n",
              "    }\n",
              "\n",
              "    .dataframe thead th {\n",
              "        text-align: right;\n",
              "    }\n",
              "</style>\n",
              "<table border=\"1\" class=\"dataframe\">\n",
              "  <thead>\n",
              "    <tr style=\"text-align: right;\">\n",
              "      <th></th>\n",
              "      <th>user_id</th>\n",
              "      <th>test_group</th>\n",
              "      <th>age_group</th>\n",
              "    </tr>\n",
              "  </thead>\n",
              "  <tbody>\n",
              "    <tr>\n",
              "      <th>0</th>\n",
              "      <td>1</td>\n",
              "      <td>control</td>\n",
              "      <td>30s</td>\n",
              "    </tr>\n",
              "    <tr>\n",
              "      <th>1</th>\n",
              "      <td>2</td>\n",
              "      <td>test</td>\n",
              "      <td>20s</td>\n",
              "    </tr>\n",
              "    <tr>\n",
              "      <th>2</th>\n",
              "      <td>3</td>\n",
              "      <td>test</td>\n",
              "      <td>20s</td>\n",
              "    </tr>\n",
              "    <tr>\n",
              "      <th>3</th>\n",
              "      <td>4</td>\n",
              "      <td>test</td>\n",
              "      <td>30s</td>\n",
              "    </tr>\n",
              "    <tr>\n",
              "      <th>4</th>\n",
              "      <td>5</td>\n",
              "      <td>control</td>\n",
              "      <td>20s</td>\n",
              "    </tr>\n",
              "  </tbody>\n",
              "</table>\n",
              "</div>"
            ],
            "text/plain": [
              "   user_id test_group age_group\n",
              "0        1    control       30s\n",
              "1        2       test       20s\n",
              "2        3       test       20s\n",
              "3        4       test       30s\n",
              "4        5    control       20s"
            ]
          },
          "execution_count": 2,
          "metadata": {},
          "output_type": "execute_result"
        }
      ],
      "source": [
        "user_info_df.head()"
      ]
    },
    {
      "cell_type": "code",
      "execution_count": null,
      "id": "285fd959",
      "metadata": {
        "id": "285fd959",
        "outputId": "16089423-710c-4c6e-ccb4-0244f604dbad"
      },
      "outputs": [
        {
          "data": {
            "text/html": [
              "<div>\n",
              "<style scoped>\n",
              "    .dataframe tbody tr th:only-of-type {\n",
              "        vertical-align: middle;\n",
              "    }\n",
              "\n",
              "    .dataframe tbody tr th {\n",
              "        vertical-align: top;\n",
              "    }\n",
              "\n",
              "    .dataframe thead th {\n",
              "        text-align: right;\n",
              "    }\n",
              "</style>\n",
              "<table border=\"1\" class=\"dataframe\">\n",
              "  <thead>\n",
              "    <tr style=\"text-align: right;\">\n",
              "      <th></th>\n",
              "      <th>user_id</th>\n",
              "      <th>views</th>\n",
              "      <th>clicks</th>\n",
              "    </tr>\n",
              "  </thead>\n",
              "  <tbody>\n",
              "    <tr>\n",
              "      <th>0</th>\n",
              "      <td>1</td>\n",
              "      <td>869</td>\n",
              "      <td>3</td>\n",
              "    </tr>\n",
              "    <tr>\n",
              "      <th>1</th>\n",
              "      <td>2</td>\n",
              "      <td>748</td>\n",
              "      <td>45</td>\n",
              "    </tr>\n",
              "    <tr>\n",
              "      <th>2</th>\n",
              "      <td>3</td>\n",
              "      <td>432</td>\n",
              "      <td>47</td>\n",
              "    </tr>\n",
              "    <tr>\n",
              "      <th>3</th>\n",
              "      <td>4</td>\n",
              "      <td>679</td>\n",
              "      <td>67</td>\n",
              "    </tr>\n",
              "    <tr>\n",
              "      <th>4</th>\n",
              "      <td>5</td>\n",
              "      <td>454</td>\n",
              "      <td>41</td>\n",
              "    </tr>\n",
              "  </tbody>\n",
              "</table>\n",
              "</div>"
            ],
            "text/plain": [
              "   user_id  views  clicks\n",
              "0        1    869       3\n",
              "1        2    748      45\n",
              "2        3    432      47\n",
              "3        4    679      67\n",
              "4        5    454      41"
            ]
          },
          "execution_count": 3,
          "metadata": {},
          "output_type": "execute_result"
        }
      ],
      "source": [
        "ab_test_df.head()"
      ]
    },
    {
      "cell_type": "code",
      "execution_count": null,
      "id": "d56df987",
      "metadata": {
        "id": "d56df987",
        "outputId": "e27c0abf-779f-425a-cab6-894d62993ada"
      },
      "outputs": [
        {
          "data": {
            "text/html": [
              "<div>\n",
              "<style scoped>\n",
              "    .dataframe tbody tr th:only-of-type {\n",
              "        vertical-align: middle;\n",
              "    }\n",
              "\n",
              "    .dataframe tbody tr th {\n",
              "        vertical-align: top;\n",
              "    }\n",
              "\n",
              "    .dataframe thead th {\n",
              "        text-align: right;\n",
              "    }\n",
              "</style>\n",
              "<table border=\"1\" class=\"dataframe\">\n",
              "  <thead>\n",
              "    <tr style=\"text-align: right;\">\n",
              "      <th></th>\n",
              "      <th>user_id</th>\n",
              "      <th>test_group</th>\n",
              "      <th>age_group</th>\n",
              "      <th>views</th>\n",
              "      <th>clicks</th>\n",
              "    </tr>\n",
              "  </thead>\n",
              "  <tbody>\n",
              "    <tr>\n",
              "      <th>0</th>\n",
              "      <td>1</td>\n",
              "      <td>control</td>\n",
              "      <td>30s</td>\n",
              "      <td>869</td>\n",
              "      <td>3</td>\n",
              "    </tr>\n",
              "    <tr>\n",
              "      <th>1</th>\n",
              "      <td>2</td>\n",
              "      <td>test</td>\n",
              "      <td>20s</td>\n",
              "      <td>748</td>\n",
              "      <td>45</td>\n",
              "    </tr>\n",
              "    <tr>\n",
              "      <th>2</th>\n",
              "      <td>3</td>\n",
              "      <td>test</td>\n",
              "      <td>20s</td>\n",
              "      <td>432</td>\n",
              "      <td>47</td>\n",
              "    </tr>\n",
              "    <tr>\n",
              "      <th>3</th>\n",
              "      <td>4</td>\n",
              "      <td>test</td>\n",
              "      <td>30s</td>\n",
              "      <td>679</td>\n",
              "      <td>67</td>\n",
              "    </tr>\n",
              "    <tr>\n",
              "      <th>4</th>\n",
              "      <td>5</td>\n",
              "      <td>control</td>\n",
              "      <td>20s</td>\n",
              "      <td>454</td>\n",
              "      <td>41</td>\n",
              "    </tr>\n",
              "  </tbody>\n",
              "</table>\n",
              "</div>"
            ],
            "text/plain": [
              "   user_id test_group age_group  views  clicks\n",
              "0        1    control       30s    869       3\n",
              "1        2       test       20s    748      45\n",
              "2        3       test       20s    432      47\n",
              "3        4       test       30s    679      67\n",
              "4        5    control       20s    454      41"
            ]
          },
          "execution_count": 4,
          "metadata": {},
          "output_type": "execute_result"
        }
      ],
      "source": [
        "data = pd.merge(user_info_df, ab_test_df, on='user_id')\n",
        "data.head()"
      ]
    },
    {
      "cell_type": "code",
      "execution_count": null,
      "id": "84657333",
      "metadata": {
        "id": "84657333",
        "outputId": "d0172ada-09b2-4d31-f552-723620cb3666"
      },
      "outputs": [
        {
          "data": {
            "text/html": [
              "<div>\n",
              "<style scoped>\n",
              "    .dataframe tbody tr th:only-of-type {\n",
              "        vertical-align: middle;\n",
              "    }\n",
              "\n",
              "    .dataframe tbody tr th {\n",
              "        vertical-align: top;\n",
              "    }\n",
              "\n",
              "    .dataframe thead th {\n",
              "        text-align: right;\n",
              "    }\n",
              "</style>\n",
              "<table border=\"1\" class=\"dataframe\">\n",
              "  <thead>\n",
              "    <tr style=\"text-align: right;\">\n",
              "      <th></th>\n",
              "      <th>user_id</th>\n",
              "      <th>test_group</th>\n",
              "      <th>age_group</th>\n",
              "      <th>views</th>\n",
              "      <th>clicks</th>\n",
              "      <th>ctr</th>\n",
              "    </tr>\n",
              "  </thead>\n",
              "  <tbody>\n",
              "    <tr>\n",
              "      <th>0</th>\n",
              "      <td>1</td>\n",
              "      <td>control</td>\n",
              "      <td>30s</td>\n",
              "      <td>869</td>\n",
              "      <td>3</td>\n",
              "      <td>0.003452</td>\n",
              "    </tr>\n",
              "    <tr>\n",
              "      <th>1</th>\n",
              "      <td>2</td>\n",
              "      <td>test</td>\n",
              "      <td>20s</td>\n",
              "      <td>748</td>\n",
              "      <td>45</td>\n",
              "      <td>0.060160</td>\n",
              "    </tr>\n",
              "    <tr>\n",
              "      <th>2</th>\n",
              "      <td>3</td>\n",
              "      <td>test</td>\n",
              "      <td>20s</td>\n",
              "      <td>432</td>\n",
              "      <td>47</td>\n",
              "      <td>0.108796</td>\n",
              "    </tr>\n",
              "    <tr>\n",
              "      <th>3</th>\n",
              "      <td>4</td>\n",
              "      <td>test</td>\n",
              "      <td>30s</td>\n",
              "      <td>679</td>\n",
              "      <td>67</td>\n",
              "      <td>0.098675</td>\n",
              "    </tr>\n",
              "    <tr>\n",
              "      <th>4</th>\n",
              "      <td>5</td>\n",
              "      <td>control</td>\n",
              "      <td>20s</td>\n",
              "      <td>454</td>\n",
              "      <td>41</td>\n",
              "      <td>0.090308</td>\n",
              "    </tr>\n",
              "  </tbody>\n",
              "</table>\n",
              "</div>"
            ],
            "text/plain": [
              "   user_id test_group age_group  views  clicks       ctr\n",
              "0        1    control       30s    869       3  0.003452\n",
              "1        2       test       20s    748      45  0.060160\n",
              "2        3       test       20s    432      47  0.108796\n",
              "3        4       test       30s    679      67  0.098675\n",
              "4        5    control       20s    454      41  0.090308"
            ]
          },
          "execution_count": 5,
          "metadata": {},
          "output_type": "execute_result"
        }
      ],
      "source": [
        "data['ctr'] = data['clicks'] / data['views']\n",
        "data.head()"
      ]
    },
    {
      "cell_type": "markdown",
      "id": "047fce2c",
      "metadata": {
        "id": "047fce2c"
      },
      "source": [
        "# 3. 가설 확인"
      ]
    },
    {
      "cell_type": "markdown",
      "id": "ef2646be",
      "metadata": {
        "id": "ef2646be"
      },
      "source": [
        "## 1) control군과 test군의 목표 지표에 유의미한 차이가 있었는가?"
      ]
    },
    {
      "cell_type": "code",
      "execution_count": null,
      "id": "b1db776b",
      "metadata": {
        "id": "b1db776b",
        "outputId": "172bad9b-5fb3-4a01-ec29-45e01e122b4e"
      },
      "outputs": [
        {
          "data": {
            "text/html": [
              "<div>\n",
              "<style scoped>\n",
              "    .dataframe tbody tr th:only-of-type {\n",
              "        vertical-align: middle;\n",
              "    }\n",
              "\n",
              "    .dataframe tbody tr th {\n",
              "        vertical-align: top;\n",
              "    }\n",
              "\n",
              "    .dataframe thead th {\n",
              "        text-align: right;\n",
              "    }\n",
              "</style>\n",
              "<table border=\"1\" class=\"dataframe\">\n",
              "  <thead>\n",
              "    <tr style=\"text-align: right;\">\n",
              "      <th></th>\n",
              "      <th>user_id</th>\n",
              "      <th>test_group</th>\n",
              "      <th>age_group</th>\n",
              "      <th>views</th>\n",
              "      <th>clicks</th>\n",
              "      <th>ctr</th>\n",
              "    </tr>\n",
              "  </thead>\n",
              "  <tbody>\n",
              "    <tr>\n",
              "      <th>0</th>\n",
              "      <td>1</td>\n",
              "      <td>control</td>\n",
              "      <td>30s</td>\n",
              "      <td>869</td>\n",
              "      <td>3</td>\n",
              "      <td>0.003452</td>\n",
              "    </tr>\n",
              "    <tr>\n",
              "      <th>1</th>\n",
              "      <td>2</td>\n",
              "      <td>test</td>\n",
              "      <td>20s</td>\n",
              "      <td>748</td>\n",
              "      <td>45</td>\n",
              "      <td>0.060160</td>\n",
              "    </tr>\n",
              "    <tr>\n",
              "      <th>2</th>\n",
              "      <td>3</td>\n",
              "      <td>test</td>\n",
              "      <td>20s</td>\n",
              "      <td>432</td>\n",
              "      <td>47</td>\n",
              "      <td>0.108796</td>\n",
              "    </tr>\n",
              "    <tr>\n",
              "      <th>3</th>\n",
              "      <td>4</td>\n",
              "      <td>test</td>\n",
              "      <td>30s</td>\n",
              "      <td>679</td>\n",
              "      <td>67</td>\n",
              "      <td>0.098675</td>\n",
              "    </tr>\n",
              "    <tr>\n",
              "      <th>4</th>\n",
              "      <td>5</td>\n",
              "      <td>control</td>\n",
              "      <td>20s</td>\n",
              "      <td>454</td>\n",
              "      <td>41</td>\n",
              "      <td>0.090308</td>\n",
              "    </tr>\n",
              "  </tbody>\n",
              "</table>\n",
              "</div>"
            ],
            "text/plain": [
              "   user_id test_group age_group  views  clicks       ctr\n",
              "0        1    control       30s    869       3  0.003452\n",
              "1        2       test       20s    748      45  0.060160\n",
              "2        3       test       20s    432      47  0.108796\n",
              "3        4       test       30s    679      67  0.098675\n",
              "4        5    control       20s    454      41  0.090308"
            ]
          },
          "execution_count": 6,
          "metadata": {},
          "output_type": "execute_result"
        }
      ],
      "source": [
        "data.head()"
      ]
    },
    {
      "cell_type": "code",
      "execution_count": null,
      "id": "6fe026c5",
      "metadata": {
        "id": "6fe026c5",
        "outputId": "fba7c9c6-f984-4d24-b8c0-57b3dd03e6ba"
      },
      "outputs": [
        {
          "data": {
            "text/plain": [
              "test_group\n",
              "control    0.04784\n",
              "test       0.06475\n",
              "Name: ctr, dtype: float64"
            ]
          },
          "metadata": {},
          "output_type": "display_data"
        }
      ],
      "source": [
        "# 그룹별 평균 CTR 확인\n",
        "display(data.groupby('test_group')['ctr'].mean())"
      ]
    },
    {
      "cell_type": "code",
      "execution_count": null,
      "id": "4b012ca0",
      "metadata": {
        "id": "4b012ca0",
        "outputId": "7ba28bd8-6170-456b-acf7-18a2a3008532"
      },
      "outputs": [
        {
          "name": "stdout",
          "output_type": "stream",
          "text": [
            "test_ctr: 6.47%\n",
            "control_ctr: 4.78%\n",
            "uplift%: 35.35%\n"
          ]
        }
      ],
      "source": [
        "test_ctr = data.query('test_group == \"test\"')['ctr'].mean()\n",
        "control_ctr = data.query('test_group == \"control\"')['ctr'].mean()\n",
        "\n",
        "print(f'test_ctr: {test_ctr:.2%}')\n",
        "print(f'control_ctr: {control_ctr:.2%}')\n",
        "print(f'uplift%: {test_ctr/control_ctr - 1:.2%}')"
      ]
    },
    {
      "cell_type": "markdown",
      "id": "7a07bcce",
      "metadata": {
        "id": "7a07bcce"
      },
      "source": [
        "수치상으로 test 그룹의 CTR이 conrol 그룹에 비해 35.35% 향상된 것 확인 가능"
      ]
    },
    {
      "cell_type": "code",
      "execution_count": null,
      "id": "e5345ac4",
      "metadata": {
        "id": "e5345ac4",
        "outputId": "41937d7a-53c4-4099-a246-7ec1c20a6335"
      },
      "outputs": [
        {
          "data": {
            "image/png": "[encoded data removed]",
            "text/plain": [
              "<Figure size 500x300 with 1 Axes>"
            ]
          },
          "metadata": {},
          "output_type": "display_data"
        }
      ],
      "source": [
        "# 그룹별 CTR 박스플롯 시각화\n",
        "import matplotlib.pyplot as plt\n",
        "import seaborn as sns\n",
        "import warnings\n",
        "warnings.filterwarnings('ignore')\n",
        "\n",
        "plt.figure(figsize=(5,3))\n",
        "sns.boxplot(y='test_group', x='ctr', data=data, hue='test_group')\n",
        "plt.title('CTR by Test Group')\n",
        "plt.show()"
      ]
    },
    {
      "cell_type": "code",
      "execution_count": null,
      "id": "fce8f27a",
      "metadata": {
        "id": "fce8f27a",
        "outputId": "92ddaea5-e690-4a0f-d188-b35080fd21df"
      },
      "outputs": [
        {
          "data": {
            "image/png": "[encoded data removed]",
            "text/plain": [
              "<Figure size 500x300 with 1 Axes>"
            ]
          },
          "metadata": {},
          "output_type": "display_data"
        }
      ],
      "source": [
        "# 그룹별 CTR 막대그래프 시각화\n",
        "plt.figure(figsize=(5,3))\n",
        "sns.barplot(y='test_group', x='ctr', data=data, hue='test_group')\n",
        "plt.title('CTR by Test Group')\n",
        "plt.show()"
      ]
    },
    {
      "cell_type": "markdown",
      "id": "790d3d8e",
      "metadata": {
        "id": "790d3d8e"
      },
      "source": [
        "#### 결론 : test 그룹의 CTR이 수치상/시각적으로 상승한 것이 확인 가능하나, 아직 통계적으로 유의미하게 상승한 것인지는 검정 필요"
      ]
    },
    {
      "cell_type": "markdown",
      "id": "b946d0ab",
      "metadata": {
        "id": "b946d0ab"
      },
      "source": [
        "## 2) control군과 test군의 가드레일 지표가 차이가 있는가? 떨어지지 않았는가?"
      ]
    },
    {
      "cell_type": "code",
      "execution_count": null,
      "id": "f0c0f839",
      "metadata": {
        "id": "f0c0f839",
        "outputId": "051b41c0-5480-423e-a069-11e3ff13e1c0"
      },
      "outputs": [
        {
          "data": {
            "text/plain": [
              "test_group\n",
              "control     999.176506\n",
              "test       1011.922917\n",
              "Name: views, dtype: float64"
            ]
          },
          "execution_count": 13,
          "metadata": {},
          "output_type": "execute_result"
        }
      ],
      "source": [
        "# 가드레일 지표를 'views'로 설정하였으므로, 그룹별 views 평균 확인\n",
        "data.groupby('test_group')['views'].mean()"
      ]
    },
    {
      "cell_type": "code",
      "execution_count": null,
      "id": "24eb60b0",
      "metadata": {
        "id": "24eb60b0",
        "outputId": "c811493b-4181-4c87-cfb6-21e67c597f95"
      },
      "outputs": [
        {
          "data": {
            "text/html": [
              "<div>\n",
              "<style scoped>\n",
              "    .dataframe tbody tr th:only-of-type {\n",
              "        vertical-align: middle;\n",
              "    }\n",
              "\n",
              "    .dataframe tbody tr th {\n",
              "        vertical-align: top;\n",
              "    }\n",
              "\n",
              "    .dataframe thead th {\n",
              "        text-align: right;\n",
              "    }\n",
              "</style>\n",
              "<table border=\"1\" class=\"dataframe\">\n",
              "  <thead>\n",
              "    <tr style=\"text-align: right;\">\n",
              "      <th></th>\n",
              "      <th>views</th>\n",
              "      <th>clicks</th>\n",
              "      <th>ctr</th>\n",
              "    </tr>\n",
              "    <tr>\n",
              "      <th>test_group</th>\n",
              "      <th></th>\n",
              "      <th></th>\n",
              "      <th></th>\n",
              "    </tr>\n",
              "  </thead>\n",
              "  <tbody>\n",
              "    <tr>\n",
              "      <th>control</th>\n",
              "      <td>999.176506</td>\n",
              "      <td>49.242207</td>\n",
              "      <td>0.04784</td>\n",
              "    </tr>\n",
              "    <tr>\n",
              "      <th>test</th>\n",
              "      <td>1011.922917</td>\n",
              "      <td>67.510562</td>\n",
              "      <td>0.06475</td>\n",
              "    </tr>\n",
              "  </tbody>\n",
              "</table>\n",
              "</div>"
            ],
            "text/plain": [
              "                  views     clicks      ctr\n",
              "test_group                                 \n",
              "control      999.176506  49.242207  0.04784\n",
              "test        1011.922917  67.510562  0.06475"
            ]
          },
          "execution_count": 15,
          "metadata": {},
          "output_type": "execute_result"
        }
      ],
      "source": [
        "# 그룹별 평균 views, clicks, ctr 확인\n",
        "data.groupby('test_group')[['views','clicks','ctr']].mean()"
      ]
    },
    {
      "cell_type": "code",
      "execution_count": null,
      "id": "20254e45",
      "metadata": {
        "id": "20254e45",
        "outputId": "10b02624-ffc7-4a2b-e122-3807a08ccb69"
      },
      "outputs": [
        {
          "data": {
            "image/png": "[encoded data removed]",
            "text/plain": [
              "<Figure size 1500x500 with 3 Axes>"
            ]
          },
          "metadata": {},
          "output_type": "display_data"
        }
      ],
      "source": [
        "# 그룹별 views, clicks, ctr 박스플롯 시각화\n",
        "plt.figure(figsize=(15,5))\n",
        "\n",
        "plt.subplot(1,3,1)\n",
        "sns.boxplot(y='test_group', x='views', data=data, hue='test_group')\n",
        "plt.title('Views by Test Group')\n",
        "\n",
        "plt.subplot(1,3,2)\n",
        "sns.boxplot(y='test_group', x='clicks', data=data, hue='test_group')\n",
        "plt.title('Clicks by Test Group')\n",
        "\n",
        "plt.subplot(1,3,3)\n",
        "sns.boxplot(y='test_group', x='ctr', data=data, hue='test_group')\n",
        "plt.title('CTR by Test Group')\n",
        "\n",
        "plt.tight_layout()\n",
        "plt.show()"
      ]
    },
    {
      "cell_type": "code",
      "execution_count": null,
      "id": "8d28abde",
      "metadata": {
        "id": "8d28abde",
        "outputId": "d16dd3ba-b0cc-41d3-d13f-c6fcf52d8eac"
      },
      "outputs": [
        {
          "data": {
            "image/png": "[encoded data removed]",
            "text/plain": [
              "<Figure size 1500x500 with 3 Axes>"
            ]
          },
          "metadata": {},
          "output_type": "display_data"
        }
      ],
      "source": [
        "# 그룹별 views, clicks, ctr 막대그래프 시각화\n",
        "plt.figure(figsize=(15,5))\n",
        "\n",
        "plt.subplot(1,3,1)\n",
        "sns.barplot(y='test_group', x='views', data=data, hue='test_group')\n",
        "plt.title('Views by Test Group')\n",
        "\n",
        "plt.subplot(1,3,2)\n",
        "sns.barplot(y='test_group', x='clicks', data=data, hue='test_group')\n",
        "plt.title('Clicks by Test Group')\n",
        "\n",
        "plt.subplot(1,3,3)\n",
        "sns.barplot(y='test_group', x='ctr', data=data, hue='test_group')\n",
        "plt.title('CTR by Test Group')\n",
        "\n",
        "plt.tight_layout()\n",
        "plt.show()"
      ]
    },
    {
      "cell_type": "markdown",
      "id": "07239fd3",
      "metadata": {
        "id": "07239fd3"
      },
      "source": [
        "#### 결론 : test 그룹의 CTR이 상승했는데, test 그룹의 가드레일지표(views) 또한 떨어지지 않고 상승하였으므로, 의도했던 방향과 일치함"
      ]
    },
    {
      "cell_type": "markdown",
      "id": "148ccf59",
      "metadata": {
        "id": "148ccf59"
      },
      "source": [
        "## 3) 지표들에 연령대별 차이가 있는지 추가 분석"
      ]
    },
    {
      "cell_type": "code",
      "execution_count": null,
      "id": "b04ecf4d",
      "metadata": {
        "id": "b04ecf4d",
        "outputId": "0798c225-0fea-4db7-82d3-0c422c266c7e"
      },
      "outputs": [
        {
          "data": {
            "image/png": "[encoded data removed]",
            "text/plain": [
              "<Figure size 1500x500 with 3 Axes>"
            ]
          },
          "metadata": {},
          "output_type": "display_data"
        }
      ],
      "source": [
        "# 연령대별로 CTR 차이 분석을 위해 데이터 정렬\n",
        "# 연령대별 views, clicks, ctr 박스플롯 시각화\n",
        "data.sort_values(['age_group','test_group'], inplace=True)\n",
        "\n",
        "plt.figure(figsize=(15,5))\n",
        "\n",
        "plt.subplot(1,3,1)\n",
        "sns.boxplot(y='age_group', x='views', data=data, hue='test_group')\n",
        "plt.title('Views by Test Group')\n",
        "\n",
        "plt.subplot(1,3,2)\n",
        "sns.boxplot(y='age_group', x='clicks', data=data, hue='test_group')\n",
        "plt.title('Clicks by Test Group')\n",
        "\n",
        "plt.subplot(1,3,3)\n",
        "sns.boxplot(y='age_group', x='ctr', data=data, hue='test_group')\n",
        "plt.title('CTR by Test Group')\n",
        "\n",
        "plt.tight_layout()\n",
        "plt.show()"
      ]
    },
    {
      "cell_type": "code",
      "execution_count": null,
      "id": "5a257987",
      "metadata": {
        "id": "5a257987",
        "outputId": "a7b79b89-e24c-4e52-82dd-bb1ba3d6abb7"
      },
      "outputs": [
        {
          "data": {
            "image/png": "[encoded data removed]",
            "text/plain": [
              "<Figure size 1500x500 with 3 Axes>"
            ]
          },
          "metadata": {},
          "output_type": "display_data"
        }
      ],
      "source": [
        "# 연령대별로 CTR 차이 분석을 위해 데이터 정렬\n",
        "# 연령대별 views, clicks, ctr 막대그래프 시각화\n",
        "plt.figure(figsize=(15,5))\n",
        "\n",
        "plt.subplot(1,3,1)\n",
        "sns.barplot(y='age_group', x='views', data=data, hue='test_group')\n",
        "plt.title('Views by Test Group')\n",
        "\n",
        "plt.subplot(1,3,2)\n",
        "sns.barplot(y='age_group', x='clicks', data=data, hue='test_group')\n",
        "plt.title('Clicks by Test Group')\n",
        "\n",
        "plt.subplot(1,3,3)\n",
        "sns.barplot(y='age_group', x='ctr', data=data, hue='test_group')\n",
        "plt.title('CTR by Test Group')\n",
        "\n",
        "plt.tight_layout()\n",
        "plt.show()"
      ]
    },
    {
      "cell_type": "markdown",
      "id": "7407d82a",
      "metadata": {
        "id": "7407d82a"
      },
      "source": [
        "#### 결론 : test그룹의 클릭수(Clicks)와 클릭률(CTR)이 2030세대에서 좀 더 크게 증가한 것 확인 가능"
      ]
    },
    {
      "cell_type": "markdown",
      "id": "9d283ac5",
      "metadata": {
        "id": "9d283ac5"
      },
      "source": [
        "# 4. 가설 검정"
      ]
    },
    {
      "cell_type": "code",
      "execution_count": null,
      "id": "a7b3bdfd",
      "metadata": {
        "id": "a7b3bdfd"
      },
      "outputs": [],
      "source": [
        "from scipy import stats"
      ]
    },
    {
      "cell_type": "code",
      "execution_count": null,
      "id": "ec1dce49",
      "metadata": {
        "id": "ec1dce49",
        "outputId": "1012f4dc-c9ef-4fd4-fd75-5884c624487d"
      },
      "outputs": [
        {
          "name": "stdout",
          "output_type": "stream",
          "text": [
            "--- views ---\n",
            "test group mean: 1011.92\n",
            "control group mean: 999.18\n",
            "uplift: 1.28%\n",
            "t test p-value: 0.1556\n",
            "Fail to reject the null hypothesis for views.\n",
            "No significant difference between control and test groups.\n",
            "\n",
            "--- clicks ---\n",
            "test group mean: 67.51\n",
            "control group mean: 49.24\n",
            "uplift: 37.10%\n",
            "t test p-value: 0.0000\n",
            "Reject the null hypothesis for clicks.\n",
            "Significant difference between control and test groups.\n",
            "\n",
            "--- ctr ---\n",
            "test group mean: 0.06\n",
            "control group mean: 0.05\n",
            "uplift: 35.35%\n",
            "t test p-value: 0.0000\n",
            "Reject the null hypothesis for ctr.\n",
            "Significant difference between control and test groups.\n",
            "\n"
          ]
        }
      ],
      "source": [
        "# views, clicks, ctr에 대한 t-검정 수행\n",
        "# 두 그룹 간의 평균 차이를 검정하여 유의미한 차이가 있는지 확인\n",
        "# p-value가 0.05 미만이면 유의미한 차이가 있다고 판단\n",
        "for index in ['views', 'clicks', 'ctr']:\n",
        "    print(f'--- {index} ---')\n",
        "\n",
        "    if index == 'ctr':\n",
        "        data_copy = data.copy().query('views > 0')\n",
        "    else:\n",
        "        data_copy = data.copy()\n",
        "\n",
        "    control = data_copy.query('test_group == \"control\"')[index]\n",
        "    test = data_copy.query('test_group == \"test\"')[index]\n",
        "    uplift = test.mean() / control.mean() - 1\n",
        "    print(f'test group mean: {test.mean():.2f}')\n",
        "    print(f'control group mean: {control.mean():.2f}')\n",
        "    print(f'uplift: {uplift:.2%}')\n",
        "\n",
        "    statistics, p_value = stats.ttest_ind(control, test, alternative='two-sided')\n",
        "    print(f't test p-value: {p_value:.4f}')\n",
        "\n",
        "    if p_value < 0.05:\n",
        "        print(f'Reject the null hypothesis for {index}.')\n",
        "        print('Significant difference between control and test groups.')\n",
        "    else:\n",
        "        print(f'Fail to reject the null hypothesis for {index}.')\n",
        "        print('No significant difference between control and test groups.')\n",
        "    print()"
      ]
    },
    {
      "cell_type": "markdown",
      "id": "48eb2aee",
      "metadata": {
        "id": "48eb2aee"
      },
      "source": [
        "#### 결론"
      ]
    },
    {
      "cell_type": "markdown",
      "id": "0f0c90ae",
      "metadata": {
        "id": "0f0c90ae"
      },
      "source": [
        "1. 조회수(views)는 t-검정 시 p값이 0.05보다 크므로 귀무가설 기각 불가\n",
        "\n",
        "* test 그룹과 control 그룹 간 통계적으로 유의미한 변화 X\n",
        "\n",
        "2. 클릭수(clicks)는 t-검정 시 p값이 0.05보다 작으므로 귀무가설 기각\n",
        "\n",
        "* test 그룹과 control 그룹 간 통계적으로 유의미한 변화 O\n",
        "\n",
        "3. 클릭률(CTR)은 t-검정 시 p값이 0.05보다 작으므로 귀무가설 기각\n",
        "\n",
        "* test 그룹과 control 그룹 간 통계적으로 유의미한 변화 O\n"
      ]
    },
    {
      "cell_type": "markdown",
      "id": "9178e8f0",
      "metadata": {
        "id": "9178e8f0"
      },
      "source": []
    },
    {
      "cell_type": "code",
      "execution_count": null,
      "id": "a106f068",
      "metadata": {
        "id": "a106f068",
        "outputId": "ab363097-dbb3-4d38-b7e8-3f9a824a6322"
      },
      "outputs": [
        {
          "name": "stdout",
          "output_type": "stream",
          "text": [
            "--- 10s ---\n",
            "--- ctr ---\n",
            "test group mean: 0.06\n",
            "control group mean: 0.05\n",
            "uplift: 28.72%\n",
            "t test p-value: 0.0000\n",
            "Reject the null hypothesis for ctr.\n",
            "Significant difference between control and test groups.\n",
            "\n",
            "\n",
            "--- 20s ---\n",
            "--- ctr ---\n",
            "test group mean: 0.07\n",
            "control group mean: 0.05\n",
            "uplift: 37.94%\n",
            "t test p-value: 0.0000\n",
            "Reject the null hypothesis for ctr.\n",
            "Significant difference between control and test groups.\n",
            "\n",
            "\n",
            "--- 30s ---\n",
            "--- ctr ---\n",
            "test group mean: 0.07\n",
            "control group mean: 0.05\n",
            "uplift: 40.18%\n",
            "t test p-value: 0.0000\n",
            "Reject the null hypothesis for ctr.\n",
            "Significant difference between control and test groups.\n",
            "\n",
            "\n",
            "--- 40s ---\n",
            "--- ctr ---\n",
            "test group mean: 0.06\n",
            "control group mean: 0.05\n",
            "uplift: 24.34%\n",
            "t test p-value: 0.0000\n",
            "Reject the null hypothesis for ctr.\n",
            "Significant difference between control and test groups.\n",
            "\n",
            "\n"
          ]
        }
      ],
      "source": [
        "# 연령대별로 CTR 차이 분석을 위해 데이터 정렬\n",
        "# 연령대별 ctr에 대한 t-검정 수행\n",
        "for age_group in ['10s', '20s', '30s', '40s']:\n",
        "    print(f'--- {age_group} ---')\n",
        "    for index in ['ctr']:\n",
        "        print(f'--- {index} ---')\n",
        "\n",
        "        if index == 'ctr':\n",
        "            data_copy = data.copy().query(f'views > 0 and age_group == \"{age_group}\"')\n",
        "        else:\n",
        "            data_copy = data.copy().query(f'age_group == \"{age_group}\"')\n",
        "\n",
        "        control = data_copy.query('test_group == \"control\"')[index]\n",
        "        test = data_copy.query('test_group == \"test\"')[index]\n",
        "        uplift = test.mean() / control.mean() - 1\n",
        "        print(f'test group mean: {test.mean():.2f}')\n",
        "        print(f'control group mean: {control.mean():.2f}')\n",
        "        print(f'uplift: {uplift:.2%}')\n",
        "\n",
        "        statistics, p_value = stats.ttest_ind(control, test, alternative='two-sided')\n",
        "        print(f't test p-value: {p_value:.4f}')\n",
        "\n",
        "        if p_value < 0.05:\n",
        "            print(f'Reject the null hypothesis for {index}.')\n",
        "            print('Significant difference between control and test groups.')\n",
        "        else:\n",
        "            print(f'Fail to reject the null hypothesis for {index}.')\n",
        "            print('No significant difference between control and test groups.')\n",
        "        print()\n",
        "    print()"
      ]
    },
    {
      "cell_type": "markdown",
      "id": "64ac400b",
      "metadata": {
        "id": "64ac400b"
      },
      "source": [
        "#### 결론"
      ]
    },
    {
      "cell_type": "markdown",
      "id": "6855be59",
      "metadata": {
        "id": "6855be59"
      },
      "source": [
        "10대, 20대, 30대, 40대 모두 test 그룹과 control 그룹 간 ctr지표에 대한 t-검정 수행 결과 p값이 0.05보다 작음\n",
        "* 10대, 20대, 30대, 40대 모두 클릭률이 통계적으로 유의미하게 상승함"
      ]
    },
    {
      "cell_type": "markdown",
      "id": "c78e3cca",
      "metadata": {
        "id": "c78e3cca"
      },
      "source": [
        "# 4. 최종 결론"
      ]
    },
    {
      "cell_type": "markdown",
      "id": "dad1b294",
      "metadata": {
        "id": "dad1b294"
      },
      "source": [
        "\n",
        "\n",
        "1. 가드레일지표(views)가 test 그룹에서 떨어지는 것을 우려하였으나, 상승하였으므로 의도했던 방향과 일치\n",
        "2. 목표 지표(CTR)가 test 그룹에서 통계적으로 유의미하게 증가함 (조회수(views)는 통계적으로 유의미한 변화 X, 클릭수(clicks)는 변화 O)\n",
        "3. 전 연령층(10대, 20대, 30대, 40대)에서 모두 CTR이 test 그룹에서 통계적으로 유의미하게 증가함\n",
        "\n",
        "* 따라서, 상품 이미지에 태그 (베스트, 신상품, 세일 등)를 부착하는 것은 클릭률(CTR)향상에 도움을 준다는 것을 확인할 수 있다."
      ]
    },
    {
      "cell_type": "code",
      "execution_count": null,
      "id": "a421384b",
      "metadata": {
        "id": "a421384b"
      },
      "outputs": [],
      "source": []
    }
  ],
  "metadata": {
    "kernelspec": {
      "display_name": "Python 3",
      "language": "python",
      "name": "python3"
    },
    "language_info": {
      "codemirror_mode": {
        "name": "ipython",
        "version": 3
      },
      "file_extension": ".py",
      "mimetype": "text/x-python",
      "name": "python",
      "nbconvert_exporter": "python",
      "pygments_lexer": "ipython3",
      "version": "3.13.2"
    },
    "colab": {
      "provenance": []
    }
  },
  "nbformat": 4,
  "nbformat_minor": 5
}